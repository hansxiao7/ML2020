{
  "nbformat": 4,
  "nbformat_minor": 0,
  "metadata": {
    "colab": {
      "name": "life_long_learning.ipynb",
      "provenance": []
    },
    "kernelspec": {
      "name": "python3",
      "display_name": "Python 3"
    },
    "accelerator": "GPU"
  },
  "cells": [
    {
      "cell_type": "code",
      "metadata": {
        "colab": {
          "base_uri": "https://localhost:8080/"
        },
        "id": "3YC-a5vlqO43",
        "outputId": "851d2a89-6776-4ffc-b788-be10f3afc9aa"
      },
      "source": [
        "from google.colab import drive\r\n",
        "drive.mount('/content/drive')"
      ],
      "execution_count": null,
      "outputs": [
        {
          "output_type": "stream",
          "text": [
            "Drive already mounted at /content/drive; to attempt to forcibly remount, call drive.mount(\"/content/drive\", force_remount=True).\n"
          ],
          "name": "stdout"
        }
      ]
    },
    {
      "cell_type": "code",
      "metadata": {
        "id": "9K9oUQJRCyZM"
      },
      "source": [
        "import numpy as np\r\n",
        "import tensorflow as tf\r\n",
        "\r\n",
        "# Load preprocessed data\r\n",
        "mnist_train_data = np.load('/content/drive/MyDrive/HW14/mnist_train_data.npy')\r\n",
        "mnist_train_label = np.load('/content/drive/MyDrive/HW14/mnist_train_label.npy')\r\n",
        "\r\n",
        "mnist_test_data = np.load('/content/drive/MyDrive/HW14/mnist_test_data.npy')\r\n",
        "mnist_test_label = np.load('/content/drive/MyDrive/HW14/mnist_test_label.npy')\r\n",
        "\r\n",
        "svhn_train_data = np.load('/content/drive/MyDrive/HW14/svhn_train_data.npy')\r\n",
        "svhn_train_label = np.load('/content/drive/MyDrive/HW14/svhn_train_label.npy')\r\n",
        "\r\n",
        "svhn_test_data = np.load('/content/drive/MyDrive/HW14/svhn_test_data.npy')\r\n",
        "svhn_test_label = np.load('/content/drive/MyDrive/HW14/svhn_test_label.npy')"
      ],
      "execution_count": null,
      "outputs": []
    },
    {
      "cell_type": "code",
      "metadata": {
        "id": "Ihk6Uyfqtkln"
      },
      "source": [
        "model_no_lll = tf.keras.Sequential([\r\n",
        "                                    tf.keras.Input(shape=(28, 28, 1)),\r\n",
        "\r\n",
        "                                    tf.keras.layers.Conv2D(8, 3, strides=1, padding='same'),\r\n",
        "                                    tf.keras.layers.BatchNormalization(),\r\n",
        "                                    tf.keras.layers.LeakyReLU(),\r\n",
        "\r\n",
        "                                    tf.keras.layers.Conv2D(16, 3, strides=1, padding='same'),\r\n",
        "                                    tf.keras.layers.BatchNormalization(),\r\n",
        "                                    tf.keras.layers.LeakyReLU(),\r\n",
        "\r\n",
        "                                    tf.keras.layers.Conv2D(32, 3, strides=1, padding='same'),\r\n",
        "                                    tf.keras.layers.BatchNormalization(),\r\n",
        "                                    tf.keras.layers.LeakyReLU(),\r\n",
        "\r\n",
        "                                    tf.keras.layers.Flatten(),\r\n",
        "                                    tf.keras.layers.Dense(10, activation='softmax')\r\n",
        "])\r\n",
        "\r\n",
        "model_no_lll.compile(optimizer='adam', loss=tf.keras.losses.SparseCategoricalCrossentropy())"
      ],
      "execution_count": null,
      "outputs": []
    },
    {
      "cell_type": "code",
      "metadata": {
        "id": "Gllhft9IEIE6"
      },
      "source": [
        "no_lll_table = np.zeros(shape=(3, 2))\r\n",
        "cross_entropy = tf.keras.losses.SparseCategoricalCrossentropy()\r\n",
        "\r\n",
        "# Results for random initilization\r\n",
        "no_lll_table[0, 0] = cross_entropy(mnist_test_label, model_no_lll(mnist_test_data, training=True)).numpy()\r\n",
        "no_lll_table[0, 1] = cross_entropy(svhn_test_label, model_no_lll(svhn_test_data, training=True)).numpy()"
      ],
      "execution_count": null,
      "outputs": []
    },
    {
      "cell_type": "code",
      "metadata": {
        "colab": {
          "base_uri": "https://localhost:8080/"
        },
        "id": "eKcBXze5GCQ7",
        "outputId": "e0a605be-9506-4cb9-93fd-66bc90b33bf4"
      },
      "source": [
        "# Train on task 1 (MNIST)\r\n",
        "model_no_lll.fit(x=mnist_train_data, y=mnist_train_label, epochs=10)\r\n",
        "\r\n",
        "no_lll_table[1, 0] = cross_entropy(mnist_test_label, model_no_lll(mnist_test_data, training=True)).numpy()\r\n",
        "no_lll_table[1, 1] = cross_entropy(svhn_test_label, model_no_lll(svhn_test_data, training=True)).numpy()"
      ],
      "execution_count": null,
      "outputs": [
        {
          "output_type": "stream",
          "text": [
            "Epoch 1/10\n",
            "1563/1563 [==============================] - 6s 3ms/step - loss: 0.5127\n",
            "Epoch 2/10\n",
            "1563/1563 [==============================] - 5s 3ms/step - loss: 0.1017\n",
            "Epoch 3/10\n",
            "1563/1563 [==============================] - 5s 3ms/step - loss: 0.0658\n",
            "Epoch 4/10\n",
            "1563/1563 [==============================] - 5s 3ms/step - loss: 0.0537\n",
            "Epoch 5/10\n",
            "1563/1563 [==============================] - 5s 3ms/step - loss: 0.0474\n",
            "Epoch 6/10\n",
            "1563/1563 [==============================] - 5s 3ms/step - loss: 0.0325\n",
            "Epoch 7/10\n",
            "1563/1563 [==============================] - 5s 3ms/step - loss: 0.0259\n",
            "Epoch 8/10\n",
            "1563/1563 [==============================] - 5s 3ms/step - loss: 0.0228\n",
            "Epoch 9/10\n",
            "1563/1563 [==============================] - 5s 3ms/step - loss: 0.0212\n",
            "Epoch 10/10\n",
            "1563/1563 [==============================] - 5s 3ms/step - loss: 0.0175\n"
          ],
          "name": "stdout"
        }
      ]
    },
    {
      "cell_type": "code",
      "metadata": {
        "colab": {
          "base_uri": "https://localhost:8080/"
        },
        "id": "T-UFybflGUWy",
        "outputId": "df35f405-8997-4b1f-cd1f-aca49a9ef698"
      },
      "source": [
        "# Train on task 2 (SVHN)\r\n",
        "epochs = 10\r\n",
        "model_optimizer = tf.keras.optimizers.Adam()\r\n",
        "\r\n",
        "for i in range(10):\r\n",
        "  print('Current epoch is '+str(i))\r\n",
        "  for j in range(500):\r\n",
        "    x = svhn_train_data[j*100:100*(j+1), :, :, :]\r\n",
        "    y = svhn_train_label[j*100:100*(j+1)]\r\n",
        "\r\n",
        "    with tf.GradientTape() as tape:\r\n",
        "      loss_1 = cross_entropy(y, model_no_lll(x, training=True))\r\n",
        "\r\n",
        "    gradients = tape.gradient(loss_1, model_no_lll.trainable_variables)\r\n",
        "    model_optimizer.apply_gradients(zip(gradients, model_no_lll.trainable_variables))\r\n",
        "\r\n",
        "no_lll_table[2, 0] = cross_entropy(mnist_test_label, model_no_lll(mnist_test_data, training=True)).numpy()\r\n",
        "no_lll_table[2, 1] = cross_entropy(svhn_test_label, model_no_lll(svhn_test_data, training=True)).numpy()"
      ],
      "execution_count": null,
      "outputs": [
        {
          "output_type": "stream",
          "text": [
            "Current epoch is 0\n",
            "Current epoch is 1\n",
            "Current epoch is 2\n",
            "Current epoch is 3\n",
            "Current epoch is 4\n",
            "Current epoch is 5\n",
            "Current epoch is 6\n",
            "Current epoch is 7\n",
            "Current epoch is 8\n",
            "Current epoch is 9\n"
          ],
          "name": "stdout"
        }
      ]
    },
    {
      "cell_type": "code",
      "metadata": {
        "colab": {
          "base_uri": "https://localhost:8080/",
          "height": 264
        },
        "id": "ow9kRZp6Gex5",
        "outputId": "f2ac714c-c6ea-456a-b32c-6de590306ebd"
      },
      "source": [
        "import matplotlib.pyplot as plt\r\n",
        "\r\n",
        "no_lll_table = np.around(no_lll_table, decimals=2)\r\n",
        "\r\n",
        "columns = ('Test on MNIST', 'Test on SVHN')\r\n",
        "rows = ('Random Init.', 'MNIST Trained', 'SVHN Trained')\r\n",
        "\r\n",
        "no_lll = plt.table(cellText=no_lll_table, rowLabels=rows, colLabels=columns,  loc='center')\r\n",
        "plt.title('Accuracy Table with no Life Long Learning')\r\n",
        "plt.box(on=None)\r\n",
        "ax = plt.gca()\r\n",
        "ax.get_xaxis().set_visible(False)\r\n",
        "ax.get_yaxis().set_visible(False)\r\n",
        "\r\n",
        "no_lll.scale(2, 2)\r\n",
        "plt.show()"
      ],
      "execution_count": null,
      "outputs": [
        {
          "output_type": "display_data",
          "data": {
            "image/png": "[encoded data removed]",
            "text/plain": [
              "<Figure size 432x288 with 1 Axes>"
            ]
          },
          "metadata": {
            "tags": [],
            "needs_background": "light"
          }
        }
      ]
    },
    {
      "cell_type": "code",
      "metadata": {
        "id": "fXjQFjziKlZb"
      },
      "source": [
        "# Apply EWC\r\n",
        "model_ewc = tf.keras.Sequential([\r\n",
        "                                    tf.keras.Input(shape=(28, 28, 1)),\r\n",
        "\r\n",
        "                                    tf.keras.layers.Conv2D(8, 3, strides=1, padding='same'),\r\n",
        "                                    tf.keras.layers.BatchNormalization(),\r\n",
        "                                    tf.keras.layers.LeakyReLU(),\r\n",
        "\r\n",
        "                                    tf.keras.layers.Conv2D(16, 3, strides=1, padding='same'),\r\n",
        "                                    tf.keras.layers.BatchNormalization(),\r\n",
        "                                    tf.keras.layers.LeakyReLU(),\r\n",
        "\r\n",
        "                                    tf.keras.layers.Conv2D(32, 3, strides=1, padding='same'),\r\n",
        "                                    tf.keras.layers.BatchNormalization(),\r\n",
        "                                    tf.keras.layers.LeakyReLU(),\r\n",
        "\r\n",
        "                                    tf.keras.layers.Flatten(),\r\n",
        "                                    tf.keras.layers.Dense(10, activation='softmax')\r\n",
        "])\r\n",
        "model_ewc.compile(optimizer='adam', loss=tf.keras.losses.SparseCategoricalCrossentropy())"
      ],
      "execution_count": null,
      "outputs": []
    },
    {
      "cell_type": "code",
      "metadata": {
        "id": "hQDeOkbFLUzy"
      },
      "source": [
        "ewc_table = np.zeros(shape=(3, 2))\r\n",
        "cross_entropy = tf.keras.losses.SparseCategoricalCrossentropy()\r\n",
        "\r\n",
        "# Results for random initilization\r\n",
        "ewc_table[0, 0] = cross_entropy(mnist_test_label, model_ewc(mnist_test_data, training=True)).numpy()\r\n",
        "ewc_table[0, 1] = cross_entropy(svhn_test_label, model_ewc(svhn_test_data, training=True)).numpy()"
      ],
      "execution_count": null,
      "outputs": []
    },
    {
      "cell_type": "code",
      "metadata": {
        "colab": {
          "base_uri": "https://localhost:8080/"
        },
        "id": "SeJcW_QULoMt",
        "outputId": "4aef8366-bc09-4e7d-fb23-6d2b88f50a46"
      },
      "source": [
        "# Train the 1st task (MNIST)\r\n",
        "model_ewc.fit(x=mnist_train_data, y=mnist_train_label, epochs=10)\r\n",
        "\r\n",
        "ewc_table[1, 0] = cross_entropy(mnist_test_label, model_ewc(mnist_test_data, training=True)).numpy()\r\n",
        "ewc_table[1, 1] = cross_entropy(svhn_test_label, model_ewc(svhn_test_data, training=True)).numpy()"
      ],
      "execution_count": null,
      "outputs": [
        {
          "output_type": "stream",
          "text": [
            "Epoch 1/10\n",
            "1563/1563 [==============================] - 5s 3ms/step - loss: 0.4850\n",
            "Epoch 2/10\n",
            "1563/1563 [==============================] - 5s 3ms/step - loss: 0.0990\n",
            "Epoch 3/10\n",
            "1563/1563 [==============================] - 5s 3ms/step - loss: 0.0692\n",
            "Epoch 4/10\n",
            "1563/1563 [==============================] - 5s 3ms/step - loss: 0.0494\n",
            "Epoch 5/10\n",
            "1563/1563 [==============================] - 5s 3ms/step - loss: 0.0428\n",
            "Epoch 6/10\n",
            "1563/1563 [==============================] - 5s 3ms/step - loss: 0.0291\n",
            "Epoch 7/10\n",
            "1563/1563 [==============================] - 5s 3ms/step - loss: 0.0256\n",
            "Epoch 8/10\n",
            "1563/1563 [==============================] - 5s 3ms/step - loss: 0.0217\n",
            "Epoch 9/10\n",
            "1563/1563 [==============================] - 5s 3ms/step - loss: 0.0165\n",
            "Epoch 10/10\n",
            "1563/1563 [==============================] - 5s 3ms/step - loss: 0.0170\n"
          ],
          "name": "stdout"
        }
      ]
    },
    {
      "cell_type": "code",
      "metadata": {
        "id": "146Zx6u9N4b4"
      },
      "source": [
        "# Calculate guard parameters for the second task \r\n",
        "task1_variables = model_ewc.trainable_variables.copy()\r\n",
        "for i in range(len(task1_variables)):\r\n",
        "  task1_variables[i] = tf.constant(task1_variables[i])\r\n",
        "\r\n",
        "with tf.GradientTape() as tape:\r\n",
        "  losses = tf.math.log(model_ewc(mnist_train_data[:10000], training=True))\r\n",
        "\r\n",
        "task1_gradient = tape.gradient(losses, model_ewc.trainable_variables)"
      ],
      "execution_count": null,
      "outputs": []
    },
    {
      "cell_type": "code",
      "metadata": {
        "colab": {
          "base_uri": "https://localhost:8080/"
        },
        "id": "liQPPxa3PX6k",
        "outputId": "33410f4a-e56f-4e56-a668-c17338b1affa"
      },
      "source": [
        "guard = [0] * len(task1_gradient)\r\n",
        "for i in range(len(task1_gradient)):\r\n",
        "  print(tf.shape(task1_gradient[i]))"
      ],
      "execution_count": null,
      "outputs": [
        {
          "output_type": "stream",
          "text": [
            "tf.Tensor([3 3 1 8], shape=(4,), dtype=int32)\n",
            "tf.Tensor([8], shape=(1,), dtype=int32)\n",
            "tf.Tensor([8], shape=(1,), dtype=int32)\n",
            "tf.Tensor([8], shape=(1,), dtype=int32)\n",
            "tf.Tensor([ 3  3  8 16], shape=(4,), dtype=int32)\n",
            "tf.Tensor([16], shape=(1,), dtype=int32)\n",
            "tf.Tensor([16], shape=(1,), dtype=int32)\n",
            "tf.Tensor([16], shape=(1,), dtype=int32)\n",
            "tf.Tensor([ 3  3 16 32], shape=(4,), dtype=int32)\n",
            "tf.Tensor([32], shape=(1,), dtype=int32)\n",
            "tf.Tensor([32], shape=(1,), dtype=int32)\n",
            "tf.Tensor([32], shape=(1,), dtype=int32)\n",
            "tf.Tensor([25088    10], shape=(2,), dtype=int32)\n",
            "tf.Tensor([10], shape=(1,), dtype=int32)\n"
          ],
          "name": "stdout"
        }
      ]
    },
    {
      "cell_type": "code",
      "metadata": {
        "id": "qmbmHRhuWbPH"
      },
      "source": [
        "for i in range(len(guard)):\r\n",
        "  task1_gradient[i] = task1_gradient[i]\r\n",
        "  guard[i] = task1_gradient[i] ** 2 / 10000."
      ],
      "execution_count": null,
      "outputs": []
    },
    {
      "cell_type": "code",
      "metadata": {
        "id": "-5DuX7nZ8gls"
      },
      "source": [
        "# Define loss function for EWS\r\n",
        "def ews_loss(x, y):\r\n",
        "  loss = cross_entropy(y, model_ewc(x, training=True))\r\n",
        "  for k in range(len(guard)):\r\n",
        "    loss += tf.reduce_sum(0.001 * guard[k] * (model_ewc.trainable_variables[k] - task1_variables[k]) ** 2)\r\n",
        "  \r\n",
        "  return loss"
      ],
      "execution_count": null,
      "outputs": []
    },
    {
      "cell_type": "code",
      "metadata": {
        "colab": {
          "base_uri": "https://localhost:8080/"
        },
        "id": "OcP_h-MqaVvK",
        "outputId": "60555c9a-b49a-4ff5-c8a2-8b93bb52cb05"
      },
      "source": [
        "# Train the model for the 2nd task\r\n",
        "epochs = 10\r\n",
        "ewc_optimizer = tf.keras.optimizers.Adam()\r\n",
        "\r\n",
        "for i in range(10):\r\n",
        "  print('Current epoch is '+str(i))\r\n",
        "  for j in range(500):\r\n",
        "    x = svhn_train_data[j*100:100*(j+1), :, :, :]\r\n",
        "    y = svhn_train_label[j*100:100*(j+1)]\r\n",
        "\r\n",
        "    with tf.GradientTape() as ewc_tape:\r\n",
        "      loss_function = ews_loss(x, y)\r\n",
        " \r\n",
        "    gradients = ewc_tape.gradient(loss_function, model_ewc.trainable_variables)\r\n",
        "\r\n",
        "    ewc_optimizer.apply_gradients(zip(gradients, model_ewc.trainable_variables))"
      ],
      "execution_count": null,
      "outputs": [
        {
          "output_type": "stream",
          "text": [
            "Current epoch is 0\n",
            "Current epoch is 1\n",
            "Current epoch is 2\n",
            "Current epoch is 3\n",
            "Current epoch is 4\n",
            "Current epoch is 5\n",
            "Current epoch is 6\n",
            "Current epoch is 7\n",
            "Current epoch is 8\n",
            "Current epoch is 9\n"
          ],
          "name": "stdout"
        }
      ]
    },
    {
      "cell_type": "code",
      "metadata": {
        "id": "hzOfDvbSclvV",
        "colab": {
          "base_uri": "https://localhost:8080/"
        },
        "outputId": "ad64c9ac-7fdc-4524-ad37-a17610cadb5e"
      },
      "source": [
        "# Add results for the 2nd task\r\n",
        "ewc_table[2, 0] = cross_entropy(mnist_test_label, model_ewc(mnist_test_data, training=True)).numpy()\r\n",
        "ewc_table[2, 1] = cross_entropy(svhn_test_label, model_ewc(svhn_test_data, training=True)).numpy()\r\n",
        "print(ewc_table[2, 0])"
      ],
      "execution_count": null,
      "outputs": [
        {
          "output_type": "stream",
          "text": [
            "0.405350923538208\n"
          ],
          "name": "stdout"
        }
      ]
    },
    {
      "cell_type": "code",
      "metadata": {
        "colab": {
          "base_uri": "https://localhost:8080/",
          "height": 264
        },
        "id": "TR59BVCQc92j",
        "outputId": "39a72f00-887e-42a4-de32-976070c64af4"
      },
      "source": [
        "# Show EWC table\r\n",
        "ewc_table = np.around(ewc_table, decimals=2)\r\n",
        "\r\n",
        "ewc = plt.table(cellText=ewc_table, rowLabels=rows, colLabels=columns,  loc='center')\r\n",
        "plt.title('Accuracy Table with no Life Long Learning')\r\n",
        "plt.box(on=None)\r\n",
        "ax = plt.gca()\r\n",
        "ax.get_xaxis().set_visible(False)\r\n",
        "ax.get_yaxis().set_visible(False)\r\n",
        "\r\n",
        "ewc.scale(2, 2)\r\n",
        "plt.show()"
      ],
      "execution_count": null,
      "outputs": [
        {
          "output_type": "display_data",
          "data": {
            "image/png": "[encoded data removed]",
            "text/plain": [
              "<Figure size 432x288 with 1 Axes>"
            ]
          },
          "metadata": {
            "tags": [],
            "needs_background": "light"
          }
        }
      ]
    }
  ]
}