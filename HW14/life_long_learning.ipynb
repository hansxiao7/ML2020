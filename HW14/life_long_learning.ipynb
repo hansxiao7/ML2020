{
  "nbformat": 4,
  "nbformat_minor": 0,
  "metadata": {
    "colab": {
      "name": "life_long_learning.ipynb",
      "provenance": []
    },
    "kernelspec": {
      "name": "python3",
      "display_name": "Python 3"
    },
    "accelerator": "GPU"
  },
  "cells": [
    {
      "cell_type": "code",
      "metadata": {
        "colab": {
          "base_uri": "https://localhost:8080/"
        },
        "id": "3YC-a5vlqO43",
        "outputId": "55a6bb49-7f60-4611-ba5f-69a6b14eabf3"
      },
      "source": [
        "from google.colab import drive\r\n",
        "drive.mount('/content/drive')"
      ],
      "execution_count": 1,
      "outputs": [
        {
          "output_type": "stream",
          "text": [
            "Drive already mounted at /content/drive; to attempt to forcibly remount, call drive.mount(\"/content/drive\", force_remount=True).\n"
          ],
          "name": "stdout"
        }
      ]
    },
    {
      "cell_type": "code",
      "metadata": {
        "id": "9K9oUQJRCyZM"
      },
      "source": [
        "import numpy as np\r\n",
        "import tensorflow as tf\r\n",
        "\r\n",
        "# Load preprocessed data\r\n",
        "mnist_train_data = np.load('/content/drive/MyDrive/HW14/mnist_train_data.npy')\r\n",
        "mnist_train_label = np.load('/content/drive/MyDrive/HW14/mnist_train_label.npy')\r\n",
        "\r\n",
        "mnist_test_data = np.load('/content/drive/MyDrive/HW14/mnist_test_data.npy')\r\n",
        "mnist_test_label = np.load('/content/drive/MyDrive/HW14/mnist_test_label.npy')\r\n",
        "\r\n",
        "svhn_train_data = np.load('/content/drive/MyDrive/HW14/svhn_train_data.npy')\r\n",
        "svhn_train_label = np.load('/content/drive/MyDrive/HW14/svhn_train_label.npy')\r\n",
        "\r\n",
        "svhn_test_data = np.load('/content/drive/MyDrive/HW14/svhn_test_data.npy')\r\n",
        "svhn_test_label = np.load('/content/drive/MyDrive/HW14/svhn_test_label.npy')"
      ],
      "execution_count": 2,
      "outputs": []
    },
    {
      "cell_type": "code",
      "metadata": {
        "id": "Ihk6Uyfqtkln"
      },
      "source": [
        "model_no_lll = tf.keras.Sequential([\r\n",
        "                                    tf.keras.Input(shape=(28, 28, 1)),\r\n",
        "\r\n",
        "                                    tf.keras.layers.Conv2D(8, 3, strides=1, padding='same'),\r\n",
        "                                    tf.keras.layers.BatchNormalization(),\r\n",
        "                                    tf.keras.layers.LeakyReLU(),\r\n",
        "\r\n",
        "                                    tf.keras.layers.Conv2D(16, 3, strides=1, padding='same'),\r\n",
        "                                    tf.keras.layers.BatchNormalization(),\r\n",
        "                                    tf.keras.layers.LeakyReLU(),\r\n",
        "\r\n",
        "                                    tf.keras.layers.Conv2D(32, 3, strides=1, padding='same'),\r\n",
        "                                    tf.keras.layers.BatchNormalization(),\r\n",
        "                                    tf.keras.layers.LeakyReLU(),\r\n",
        "\r\n",
        "                                    tf.keras.layers.Flatten(),\r\n",
        "                                    tf.keras.layers.Dense(10, activation='softmax')\r\n",
        "])\r\n",
        "model_no_lll.compile(optimizer='adam', loss=tf.keras.losses.SparseCategoricalCrossentropy())"
      ],
      "execution_count": 3,
      "outputs": []
    },
    {
      "cell_type": "code",
      "metadata": {
        "id": "Gllhft9IEIE6"
      },
      "source": [
        "no_lll_table = np.zeros(shape=(3, 2))\r\n",
        "cross_entropy = tf.keras.losses.SparseCategoricalCrossentropy()\r\n",
        "\r\n",
        "# Results for random initilization\r\n",
        "no_lll_table[0, 0] = cross_entropy(mnist_test_label, model_no_lll(mnist_test_data, training=True)).numpy()\r\n",
        "no_lll_table[0, 1] = cross_entropy(svhn_test_label, model_no_lll(svhn_test_data, training=True)).numpy()"
      ],
      "execution_count": 4,
      "outputs": []
    },
    {
      "cell_type": "code",
      "metadata": {
        "colab": {
          "base_uri": "https://localhost:8080/"
        },
        "id": "eKcBXze5GCQ7",
        "outputId": "467cca91-4921-405a-9df5-83ad03980d12"
      },
      "source": [
        "# Train on task 1 (MNIST)\r\n",
        "model_no_lll.fit(x=mnist_train_data, y=mnist_train_label, epochs=10)\r\n",
        "\r\n",
        "no_lll_table[1, 0] = cross_entropy(mnist_test_label, model_no_lll(mnist_test_data, training=True)).numpy()\r\n",
        "no_lll_table[1, 1] = cross_entropy(svhn_test_label, model_no_lll(svhn_test_data, training=True)).numpy()"
      ],
      "execution_count": 5,
      "outputs": [
        {
          "output_type": "stream",
          "text": [
            "Epoch 1/10\n",
            "1563/1563 [==============================] - 6s 3ms/step - loss: 0.4766\n",
            "Epoch 2/10\n",
            "1563/1563 [==============================] - 5s 3ms/step - loss: 0.1007\n",
            "Epoch 3/10\n",
            "1563/1563 [==============================] - 5s 3ms/step - loss: 0.0694\n",
            "Epoch 4/10\n",
            "1563/1563 [==============================] - 5s 3ms/step - loss: 0.0528\n",
            "Epoch 5/10\n",
            "1563/1563 [==============================] - 5s 3ms/step - loss: 0.0406\n",
            "Epoch 6/10\n",
            "1563/1563 [==============================] - 5s 3ms/step - loss: 0.0351\n",
            "Epoch 7/10\n",
            "1563/1563 [==============================] - 5s 3ms/step - loss: 0.0298\n",
            "Epoch 8/10\n",
            "1563/1563 [==============================] - 5s 3ms/step - loss: 0.0207\n",
            "Epoch 9/10\n",
            "1563/1563 [==============================] - 5s 3ms/step - loss: 0.0214\n",
            "Epoch 10/10\n",
            "1563/1563 [==============================] - 5s 3ms/step - loss: 0.0166\n"
          ],
          "name": "stdout"
        }
      ]
    },
    {
      "cell_type": "code",
      "metadata": {
        "colab": {
          "base_uri": "https://localhost:8080/"
        },
        "id": "T-UFybflGUWy",
        "outputId": "6fa1e30e-1fc4-47f9-94ab-48040400e3d2"
      },
      "source": [
        "# Train on task 2 (SVHN)\r\n",
        "model_no_lll.fit(x=svhn_train_data, y=svhn_train_label, epochs=10)\r\n",
        "\r\n",
        "no_lll_table[2, 0] = cross_entropy(mnist_test_label, model_no_lll(mnist_test_data, training=True)).numpy()\r\n",
        "no_lll_table[2, 1] = cross_entropy(svhn_test_label, model_no_lll(svhn_test_data, training=True)).numpy()"
      ],
      "execution_count": 6,
      "outputs": [
        {
          "output_type": "stream",
          "text": [
            "Epoch 1/10\n",
            "1563/1563 [==============================] - 5s 3ms/step - loss: 0.7082\n",
            "Epoch 2/10\n",
            "1563/1563 [==============================] - 5s 3ms/step - loss: 0.4810\n",
            "Epoch 3/10\n",
            "1563/1563 [==============================] - 5s 3ms/step - loss: 0.4316\n",
            "Epoch 4/10\n",
            "1563/1563 [==============================] - 5s 3ms/step - loss: 0.4011\n",
            "Epoch 5/10\n",
            "1563/1563 [==============================] - 5s 3ms/step - loss: 0.3751\n",
            "Epoch 6/10\n",
            "1563/1563 [==============================] - 5s 3ms/step - loss: 0.3499\n",
            "Epoch 7/10\n",
            "1563/1563 [==============================] - 5s 3ms/step - loss: 0.3286\n",
            "Epoch 8/10\n",
            "1563/1563 [==============================] - 5s 3ms/step - loss: 0.3100\n",
            "Epoch 9/10\n",
            "1563/1563 [==============================] - 5s 3ms/step - loss: 0.2936\n",
            "Epoch 10/10\n",
            "1563/1563 [==============================] - 5s 3ms/step - loss: 0.2789\n"
          ],
          "name": "stdout"
        }
      ]
    },
    {
      "cell_type": "code",
      "metadata": {
        "colab": {
          "base_uri": "https://localhost:8080/",
          "height": 264
        },
        "id": "ow9kRZp6Gex5",
        "outputId": "436fa4a4-a7df-44b4-888e-5b53e81b1ec8"
      },
      "source": [
        "import matplotlib.pyplot as plt\r\n",
        "\r\n",
        "no_lll_table = np.around(no_lll_table, decimals=2)\r\n",
        "\r\n",
        "columns = ('Test on MNIST', 'Test on SVHN')\r\n",
        "rows = ('Random Init.', 'MNIST Trained', 'SVHN Trained')\r\n",
        "\r\n",
        "no_lll = plt.table(cellText=no_lll_table, rowLabels=rows, colLabels=columns,  loc='center')\r\n",
        "plt.title('Accuracy Table with no Life Long Learning')\r\n",
        "plt.box(on=None)\r\n",
        "ax = plt.gca()\r\n",
        "ax.get_xaxis().set_visible(False)\r\n",
        "ax.get_yaxis().set_visible(False)\r\n",
        "\r\n",
        "no_lll.scale(2, 2)\r\n",
        "plt.show()"
      ],
      "execution_count": 7,
      "outputs": [
        {
          "output_type": "display_data",
          "data": {
            "image/png": "[encoded data removed]",
            "text/plain": [
              "<Figure size 432x288 with 1 Axes>"
            ]
          },
          "metadata": {
            "tags": [],
            "needs_background": "light"
          }
        }
      ]
    },
    {
      "cell_type": "code",
      "metadata": {
        "id": "fXjQFjziKlZb"
      },
      "source": [
        "# Apply EWC\r\n",
        "model_ewc = tf.keras.Sequential([\r\n",
        "                                    tf.keras.Input(shape=(28, 28, 1)),\r\n",
        "\r\n",
        "                                    tf.keras.layers.Conv2D(8, 3, strides=1, padding='same'),\r\n",
        "                                    tf.keras.layers.BatchNormalization(),\r\n",
        "                                    tf.keras.layers.LeakyReLU(),\r\n",
        "\r\n",
        "                                    tf.keras.layers.Conv2D(16, 3, strides=1, padding='same'),\r\n",
        "                                    tf.keras.layers.BatchNormalization(),\r\n",
        "                                    tf.keras.layers.LeakyReLU(),\r\n",
        "\r\n",
        "                                    tf.keras.layers.Conv2D(32, 3, strides=1, padding='same'),\r\n",
        "                                    tf.keras.layers.BatchNormalization(),\r\n",
        "                                    tf.keras.layers.LeakyReLU(),\r\n",
        "\r\n",
        "                                    tf.keras.layers.Flatten(),\r\n",
        "                                    tf.keras.layers.Dense(10, activation='softmax')\r\n",
        "])\r\n",
        "model_ewc.compile(optimizer='adam', loss=tf.keras.losses.SparseCategoricalCrossentropy())"
      ],
      "execution_count": 66,
      "outputs": []
    },
    {
      "cell_type": "code",
      "metadata": {
        "id": "hQDeOkbFLUzy"
      },
      "source": [
        "ewc_table = np.zeros(shape=(3, 2))\r\n",
        "cross_entropy = tf.keras.losses.SparseCategoricalCrossentropy()\r\n",
        "\r\n",
        "# Results for random initilization\r\n",
        "ewc_table[0, 0] = cross_entropy(mnist_test_label, model_ewc(mnist_test_data, training=True)).numpy()\r\n",
        "ewc_table[0, 1] = cross_entropy(svhn_test_label, model_ewc(svhn_test_data, training=True)).numpy()"
      ],
      "execution_count": 67,
      "outputs": []
    },
    {
      "cell_type": "code",
      "metadata": {
        "colab": {
          "base_uri": "https://localhost:8080/"
        },
        "id": "SeJcW_QULoMt",
        "outputId": "612d82e1-aa0d-440f-a27b-350706493115"
      },
      "source": [
        "# Train the 1st task (MNIST)\r\n",
        "model_ewc.fit(x=mnist_train_data, y=mnist_train_label, epochs=10)\r\n",
        "\r\n",
        "ewc_table[1, 0] = cross_entropy(mnist_test_label, model_ewc(mnist_test_data, training=True)).numpy()\r\n",
        "ewc_table[1, 1] = cross_entropy(svhn_test_label, model_ewc(svhn_test_data, training=True)).numpy()"
      ],
      "execution_count": 68,
      "outputs": [
        {
          "output_type": "stream",
          "text": [
            "Epoch 1/10\n",
            "1563/1563 [==============================] - 5s 3ms/step - loss: 0.5020\n",
            "Epoch 2/10\n",
            "1563/1563 [==============================] - 5s 3ms/step - loss: 0.1064\n",
            "Epoch 3/10\n",
            "1563/1563 [==============================] - 5s 3ms/step - loss: 0.0725\n",
            "Epoch 4/10\n",
            "1563/1563 [==============================] - 5s 3ms/step - loss: 0.0548\n",
            "Epoch 5/10\n",
            "1563/1563 [==============================] - 5s 3ms/step - loss: 0.0435\n",
            "Epoch 6/10\n",
            "1563/1563 [==============================] - 5s 3ms/step - loss: 0.0346\n",
            "Epoch 7/10\n",
            "1563/1563 [==============================] - 5s 3ms/step - loss: 0.0292\n",
            "Epoch 8/10\n",
            "1563/1563 [==============================] - 5s 3ms/step - loss: 0.0234\n",
            "Epoch 9/10\n",
            "1563/1563 [==============================] - 5s 3ms/step - loss: 0.0220\n",
            "Epoch 10/10\n",
            "1563/1563 [==============================] - 5s 3ms/step - loss: 0.0183\n"
          ],
          "name": "stdout"
        }
      ]
    },
    {
      "cell_type": "code",
      "metadata": {
        "id": "146Zx6u9N4b4"
      },
      "source": [
        "# Calculate guard parameters for the second task \r\n",
        "task1_variables = model_ewc.trainable_variables.copy()\r\n",
        "\r\n",
        "with tf.GradientTape() as tape:\r\n",
        "  losses = tf.math.log(model_ewc(mnist_train_data[:10000], training=True))\r\n",
        "\r\n",
        "task1_gradient = tape.gradient(losses, model_ewc.trainable_variables)"
      ],
      "execution_count": 69,
      "outputs": []
    },
    {
      "cell_type": "code",
      "metadata": {
        "colab": {
          "base_uri": "https://localhost:8080/"
        },
        "id": "liQPPxa3PX6k",
        "outputId": "b3414c07-4d2b-41e8-a513-b6c544741ebf"
      },
      "source": [
        "guard = [0] * len(task1_gradient)\r\n",
        "for i in range(len(task1_gradient)):\r\n",
        "  print(tf.shape(task1_gradient[i]))"
      ],
      "execution_count": 70,
      "outputs": [
        {
          "output_type": "stream",
          "text": [
            "tf.Tensor([3 3 1 8], shape=(4,), dtype=int32)\n",
            "tf.Tensor([8], shape=(1,), dtype=int32)\n",
            "tf.Tensor([8], shape=(1,), dtype=int32)\n",
            "tf.Tensor([8], shape=(1,), dtype=int32)\n",
            "tf.Tensor([ 3  3  8 16], shape=(4,), dtype=int32)\n",
            "tf.Tensor([16], shape=(1,), dtype=int32)\n",
            "tf.Tensor([16], shape=(1,), dtype=int32)\n",
            "tf.Tensor([16], shape=(1,), dtype=int32)\n",
            "tf.Tensor([ 3  3 16 32], shape=(4,), dtype=int32)\n",
            "tf.Tensor([32], shape=(1,), dtype=int32)\n",
            "tf.Tensor([32], shape=(1,), dtype=int32)\n",
            "tf.Tensor([32], shape=(1,), dtype=int32)\n",
            "tf.Tensor([25088    10], shape=(2,), dtype=int32)\n",
            "tf.Tensor([10], shape=(1,), dtype=int32)\n"
          ],
          "name": "stdout"
        }
      ]
    },
    {
      "cell_type": "code",
      "metadata": {
        "id": "qmbmHRhuWbPH"
      },
      "source": [
        "for i in range(len(guard)):\r\n",
        "  task1_gradient[i] = task1_gradient[i] / 10000.\r\n",
        "  guard[i] = task1_gradient[i] ** 2"
      ],
      "execution_count": 71,
      "outputs": []
    },
    {
      "cell_type": "code",
      "metadata": {
        "colab": {
          "base_uri": "https://localhost:8080/"
        },
        "id": "OcP_h-MqaVvK",
        "outputId": "a1d6ddbd-16fe-4557-af98-c228510e6b0d"
      },
      "source": [
        "# Train the model for the 2nd task\r\n",
        "epochs = 10\r\n",
        "ewc_optimizer = tf.keras.optimizers.Adam()\r\n",
        "\r\n",
        "for i in range(10):\r\n",
        "  print('Current epoch is '+str(i))\r\n",
        "  for j in range(500):\r\n",
        "    x = svhn_train_data[j*100:100*(j+1), :, :, :]\r\n",
        "    y = svhn_train_label[j*100:100*(j+1)]\r\n",
        "\r\n",
        "    with tf.GradientTape() as tape:\r\n",
        "      loss_function = cross_entropy(y, model_ewc(x, training=True))\r\n",
        "      for k in range(len(guard)):\r\n",
        "        loss_function += tf.reduce_sum(50 * guard[k] * (model_ewc.trainable_variables[k] - task1_variables[k]) ** 2)\r\n",
        "    \r\n",
        "    gradients = tape.gradient(loss_function, model_ewc.trainable_variables)\r\n",
        "    ewc_optimizer.apply_gradients(zip(gradients, model_ewc.trainable_variables))"
      ],
      "execution_count": 72,
      "outputs": [
        {
          "output_type": "stream",
          "text": [
            "Current epoch is 0\n",
            "Current epoch is 1\n",
            "Current epoch is 2\n",
            "Current epoch is 3\n",
            "Current epoch is 4\n",
            "Current epoch is 5\n",
            "Current epoch is 6\n",
            "Current epoch is 7\n",
            "Current epoch is 8\n",
            "Current epoch is 9\n"
          ],
          "name": "stdout"
        }
      ]
    },
    {
      "cell_type": "code",
      "metadata": {
        "id": "hzOfDvbSclvV"
      },
      "source": [
        "# Add results for the 2nd task\r\n",
        "ewc_table[2, 0] = cross_entropy(mnist_test_label, model_ewc(mnist_test_data, training=True)).numpy()\r\n",
        "ewc_table[2, 1] = cross_entropy(svhn_test_label, model_ewc(svhn_test_data, training=True)).numpy()"
      ],
      "execution_count": 73,
      "outputs": []
    },
    {
      "cell_type": "code",
      "metadata": {
        "colab": {
          "base_uri": "https://localhost:8080/",
          "height": 264
        },
        "id": "TR59BVCQc92j",
        "outputId": "39e5b440-3a50-437e-bdaf-dcda31c45cfb"
      },
      "source": [
        "# Show EWC table\r\n",
        "ewc_table = np.around(ewc_table, decimals=2)\r\n",
        "\r\n",
        "ewc = plt.table(cellText=ewc_table, rowLabels=rows, colLabels=columns,  loc='center')\r\n",
        "plt.title('Accuracy Table with no Life Long Learning')\r\n",
        "plt.box(on=None)\r\n",
        "ax = plt.gca()\r\n",
        "ax.get_xaxis().set_visible(False)\r\n",
        "ax.get_yaxis().set_visible(False)\r\n",
        "\r\n",
        "ewc.scale(2, 2)\r\n",
        "plt.show()"
      ],
      "execution_count": 74,
      "outputs": [
        {
          "output_type": "display_data",
          "data": {
            "image/png": "[encoded data removed]",
            "text/plain": [
              "<Figure size 432x288 with 1 Axes>"
            ]
          },
          "metadata": {
            "tags": [],
            "needs_background": "light"
          }
        }
      ]
    }
  ]
}